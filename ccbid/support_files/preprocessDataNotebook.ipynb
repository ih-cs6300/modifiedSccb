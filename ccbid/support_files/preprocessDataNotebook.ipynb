{
 "cells": [
  {
   "cell_type": "code",
   "execution_count": 1,
   "metadata": {},
   "outputs": [],
   "source": [
    "import pandas as pd\n",
    "import os \n",
    "import numpy as np\n",
    "import utm\n",
    "\n",
    "#Files\n",
    "os.chdir('/home/odd1/Desktop/ecology_project/jsdm1.0/EcologyDataScienceProject/dataPreprocessing/')\n",
    "path = \"/home/odd1/Desktop/ecology_project/jsdm1.0/EcologyDataScienceProject/dataPreprocessing/\"\n",
    "daymetFile = \"climate_daymet.csv\"\n",
    "fiaFile = \"climate_fia.csv\"\n",
    "task3TrainingFile = \"training.csv\"\n",
    "task3TestingFile = \"testing.csv\"\n",
    "task2Itc = \"itc_attributes_train.csv\"\n",
    "crownCoords = \"crown_coords.csv\"\n",
    "latBand = 17\n",
    "lonBand = 'R'\n",
    "\n",
    "def utmToLatLon(x):\n",
    "   return utm.to_latlon(x[0], x[1], latBand, lonBand)\n",
    "\n",
    "def utmFromLatLon(x):\n",
    "   temp = utm.from_latlon(x[0], x[1])\n",
    "   temp = (temp[0], temp[1])\n",
    "   return temp\n",
    "\n",
    "def l2(pos1, pos2):\n",
    "   return np.sqrt(((pos1[0] - pos2[0])**2) + ((pos1[1] - pos2[1])**2))\n",
    "\n",
    "def nearestFIAplot(idx):\n",
    "   closestFiaPlotIdx = -1\n",
    "   closestDist = float('inf')\n",
    "\n",
    "   itcEN = (itcDf.iloc[idx, 4], itcDf.iloc[idx, 5])\n",
    "\n",
    "   for fiaIdx, row in fiaDf.iterrows():\n",
    "      fiaEN = utmFromLatLon((row['lat'], row['lon'])) #utmFromLatLon((fiaDf.iloc[numRow, 4], fiaDf.iloc[numRow, 5]))\n",
    "      dist = l2(fiaEN, itcEN)\n",
    "      \n",
    "      if (dist < closestDist):\n",
    "         closestDist = dist\n",
    "         closestFiaPlotIdx = fiaIdx\n",
    "   return fiaDf.loc[closestFiaPlotIdx, 'plot']\n",
    "\n",
    "def geoToUtm(geoString):\n",
    "   temp = tuple(map(float, geoString.strip(\"c()\").split(\",\")))\n",
    "   return temp\n",
    "         \n",
    "fiaDf = pd.read_csv(os.path.join(fiaFile))\n",
    "trainDf = pd.read_csv(os.path.join(task3TrainingFile))\n",
    "testDf = pd.read_csv(os.path.join(task3TestingFile))\n",
    "itcDf = pd.read_csv(os.path.join(crownCoords))\n",
    "daymetDf = pd.read_csv(os.path.join(daymetFile))"
   ]
  },
  {
   "cell_type": "code",
   "execution_count": 2,
   "metadata": {},
   "outputs": [
    {
     "name": "stdout",
     "output_type": "stream",
     "text": [
      "Index(['statecd', 'unitcd', 'countycd', 'plot', 'lat', 'lon', 'slope',\n",
      "       'aspect', 'elev', 'carbon_soil_org', 'watercd', 'physclcd', 'invyr'],\n",
      "      dtype='object')\n"
     ]
    }
   ],
   "source": [
    "fiaDf = fiaDf[(fiaDf.statecd == 12) & (fiaDf.countycd == 107)]\n",
    "print(fiaDf.columns)"
   ]
  },
  {
   "cell_type": "code",
   "execution_count": 3,
   "metadata": {},
   "outputs": [
    {
     "name": "stdout",
     "output_type": "stream",
     "text": [
      "Index(['crown_id', 'confidence', 'Plot_ID', 'geometry', 'ITC_E', 'ITC_N'], dtype='object')\n"
     ]
    }
   ],
   "source": [
    "tempDf = itcDf['geometry'].apply(geoToUtm).apply(pd.Series)\n",
    "tempDf.columns = ['ITC_E', 'ITC_N']\n",
    "itcDf = itcDf.join(tempDf)\n",
    "print(itcDf.columns)"
   ]
  },
  {
   "cell_type": "code",
   "execution_count": 4,
   "metadata": {},
   "outputs": [
    {
     "name": "stdout",
     "output_type": "stream",
     "text": [
      "Index(['plot', 'daylength_3', 'daylength_4', 'daylength_10', 'prec_6',\n",
      "       'prec_7', 'rad_8', 'tmax_8', 'tmin_1'],\n",
      "      dtype='object')\n"
     ]
    }
   ],
   "source": [
    "daymetDf = daymetDf[(daymetDf.statecd == 12) & (daymetDf.countycd == 107)]\n",
    "daymetDf = daymetDf.drop(['countycd', 'unitcd', 'statecd', 'Unnamed: 0'], axis = 1)\n",
    "print(daymetDf.columns)"
   ]
  },
  {
   "cell_type": "code",
   "execution_count": 5,
   "metadata": {},
   "outputs": [
    {
     "name": "stdout",
     "output_type": "stream",
     "text": [
      "Index(['crown_id', 'confidence', 'Plot_ID', 'geometry', 'ITC_E', 'ITC_N',\n",
      "       'closestfia'],\n",
      "      dtype='object')\n"
     ]
    }
   ],
   "source": [
    "newCol = []\n",
    "for idx, row in itcDf.iterrows():\n",
    "   newCol.append(nearestFIAplot(idx))\n",
    "\n",
    "itcDf['closestfia'] = newCol\n",
    "print(itcDf.columns)"
   ]
  },
  {
   "cell_type": "code",
   "execution_count": 6,
   "metadata": {},
   "outputs": [
    {
     "name": "stdout",
     "output_type": "stream",
     "text": [
      "Index(['crown_id', 'confidence', 'Plot_ID', 'geometry', 'ITC_E', 'ITC_N',\n",
      "       'closestfia', 'statecd', 'unitcd', 'countycd', 'plot', 'lat', 'lon',\n",
      "       'slope', 'aspect', 'elev', 'carbon_soil_org', 'watercd', 'physclcd',\n",
      "       'invyr', 'daylength_3', 'daylength_4', 'daylength_10', 'prec_6',\n",
      "       'prec_7', 'rad_8', 'tmax_8', 'tmin_1'],\n",
      "      dtype='object')\n"
     ]
    }
   ],
   "source": [
    "tempDf = itcDf.merge(fiaDf, left_on='closestfia', right_on='plot')\n",
    "tempDf = tempDf.merge(daymetDf, on='plot')\n",
    "print(tempDf.columns)"
   ]
  },
  {
   "cell_type": "code",
   "execution_count": 7,
   "metadata": {},
   "outputs": [],
   "source": [
    "tempTrainDf = trainDf.merge(tempDf, on='crown_id')\n",
    "tempTestDf = testDf.merge(tempDf, on='crown_id')"
   ]
  },
  {
   "cell_type": "code",
   "execution_count": 7,
   "metadata": {},
   "outputs": [
    {
     "name": "stdout",
     "output_type": "stream",
     "text": [
      "Index(['crown_id', 'band_1', 'band_2', 'band_3', 'band_4', 'band_5', 'band_6',\n",
      "       'band_7', 'band_8', 'band_9',\n",
      "       ...\n",
      "       'watercd', 'physclcd', 'daylength_3', 'daylength_4', 'daylength_10',\n",
      "       'prec_6', 'prec_7', 'rad_8', 'tmax_8', 'tmin_1'],\n",
      "      dtype='object', length=443)\n",
      "Index(['crown_id', 'band_1', 'band_2', 'band_3', 'band_4', 'band_5', 'band_6',\n",
      "       'band_7', 'band_8', 'band_9',\n",
      "       ...\n",
      "       'watercd', 'physclcd', 'daylength_3', 'daylength_4', 'daylength_10',\n",
      "       'prec_6', 'prec_7', 'rad_8', 'tmax_8', 'tmin_1'],\n",
      "      dtype='object', length=443)\n"
     ]
    }
   ],
   "source": [
    "tempTrainDf = trainDf.merge(tempDf, on='crown_id')\n",
    "tempTestDf = testDf.merge(tempDf, on='crown_id')\n",
    "\n",
    "finalTrainDf = tempTrainDf.drop(['confidence', 'Plot_ID', 'geometry', 'ITC_E', 'ITC_N', 'closestfia', 'statecd', 'unitcd', 'countycd', 'plot', 'invyr'], axis=1)\n",
    "finalTestDf = tempTestDf.drop(['confidence', 'Plot_ID', 'geometry', 'ITC_E', 'ITC_N', 'closestfia', 'statecd', 'unitcd', 'countycd', 'plot', 'invyr'], axis=1)\n",
    "\n",
    "print(finalTrainDf.columns)\n",
    "print(finalTestDf.columns)"
   ]
  },
  {
   "cell_type": "code",
   "execution_count": 8,
   "metadata": {},
   "outputs": [],
   "source": [
    "finalTrainDf.to_csv('trainPlus.csv', index=False, header=True)\n",
    "finalTestDf.to_csv('testPlus.csv', index=False, header=True)"
   ]
  },
  {
   "cell_type": "code",
   "execution_count": 9,
   "metadata": {},
   "outputs": [
    {
     "name": "stdout",
     "output_type": "stream",
     "text": [
      "(6831, 443)\n",
      "(2625, 443)\n"
     ]
    }
   ],
   "source": [
    "print(finalTrainDf.shape)\n",
    "print(finalTestDf.shape)"
   ]
  },
  {
   "cell_type": "code",
   "execution_count": null,
   "metadata": {},
   "outputs": [],
   "source": []
  }
 ],
 "metadata": {
  "kernelspec": {
   "display_name": "Python 3",
   "language": "python",
   "name": "python3"
  },
  "language_info": {
   "codemirror_mode": {
    "name": "ipython",
    "version": 3
   },
   "file_extension": ".py",
   "mimetype": "text/x-python",
   "name": "python",
   "nbconvert_exporter": "python",
   "pygments_lexer": "ipython3",
   "version": "3.6.9"
  }
 },
 "nbformat": 4,
 "nbformat_minor": 4
}
